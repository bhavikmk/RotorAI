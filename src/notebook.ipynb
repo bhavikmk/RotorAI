{
 "cells": [
  {
   "cell_type": "code",
   "execution_count": 3,
   "metadata": {},
   "outputs": [],
   "source": [
    "import os\n",
    "import numpy as np\n",
    "from scipy.io import loadmat\n",
    "import pandas as pd\n",
    "import datetime"
   ]
  },
  {
   "cell_type": "code",
   "execution_count": 4,
   "metadata": {},
   "outputs": [
    {
     "name": "stdout",
     "output_type": "stream",
     "text": [
      "../data_csv/tach/\n"
     ]
    }
   ],
   "source": [
    "# Directory Naming \n",
    "start_date1 = \"0307\" \n",
    "end_date1 = \"0331\"\n",
    "start_date2 = \"0401\" \n",
    "end_date1 = \"0425\"\n",
    "\n",
    "date = ''\n",
    "tach_csv = \"../data_csv/tach/\" + date\n",
    "vibration_csv = \"../data_csv/vibration/\" + date\n",
    "print(tach_csv)"
   ]
  },
  {
   "cell_type": "code",
   "execution_count": 5,
   "metadata": {},
   "outputs": [
    {
     "name": "stdout",
     "output_type": "stream",
     "text": [
      "['data-20130307T015746Z.mat', 'data-20130308T023421Z.mat', 'data-20130309T023343Z.mat', 'data-20130310T030102Z.mat', 'data-20130311T030024Z.mat', 'data-20130312T061710Z.mat', 'data-20130313T063404Z.mat', 'data-20130314T065041Z.mat', 'data-20130315T065003Z.mat', 'data-20130316T065643Z.mat', 'data-20130317T065604Z.mat', 'data-20130317T184756Z.mat', 'data-20130318T184715Z.mat', 'data-20130320T003354Z.mat', 'data-20130321T003314Z.mat', 'data-20130322T003950Z.mat', 'data-20130323T003911Z.mat', 'data-20130324T004549Z.mat', 'data-20130325T004512Z.mat', 'data-20130326T014150Z.mat', 'data-20130327T035827Z.mat', 'data-20130328T095531Z.mat', 'data-20130329T095505Z.mat', 'data-20130330T100142Z.mat', 'data-20130331T193818Z.mat', 'data-20130401T193739Z.mat', 'data-20130402T194415Z.mat', 'data-20130403T212942Z.mat', 'data-20130404T212901Z.mat', 'data-20130405T213537Z.mat', 'data-20130406T221209Z.mat', 'data-20130407T221131Z.mat', 'data-20130408T221809Z.mat', 'data-20130409T231445Z.mat', 'data-20130410T231407Z.mat', 'data-20130411T231358Z.mat', 'data-20130412T170231Z.mat', 'data-20130413T170210Z.mat', 'data-20130414T170847Z.mat', 'data-20130415T225524Z.mat', 'data-20130416T230159Z.mat', 'data-20130417T230120Z.mat', 'data-20130418T230803Z.mat', 'data-20130419T230747Z.mat', 'data-20130420T151307Z.mat', 'data-20130421T151231Z.mat', 'data-20130422T151908Z.mat', 'data-20130423T151830Z.mat', 'data-20130424T215514Z.mat', 'data-20130425T232202Z.mat']\n"
     ]
    }
   ],
   "source": [
    "# Path to the directory containing the .mat files\n",
    "data_path = '../data'  # Update this path to your directory\n",
    "\n",
    "# List all .mat files in the directory\n",
    "mat_files = [f for f in os.listdir(data_path) if f.startswith(\"data-\") and f.endswith(\".mat\")]\n",
    "print(mat_files)"
   ]
  },
  {
   "cell_type": "code",
   "execution_count": null,
   "metadata": {},
   "outputs": [],
   "source": [
    "# Load Tach & Vibrations data date wise (6 sec per day) in diff day\n",
    "\n",
    "for mat_file in mat_files:\n",
    "    # Extract the date from the filename\n",
    "    year = mat_file[5:9]    # Extract YYYY\n",
    "    month = mat_file[9:11]  # Extract MM\n",
    "    day = mat_file[11:13]   # Extract DD\n",
    "    file_date = f\"{year}-{month}-{day}\"  # Combine into YYYY-MM-DD format\n",
    "\n",
    "\n",
    "    # Load the .mat file\n",
    "    file_path = os.path.join(data_path, mat_file)\n",
    "    mat_data = loadmat(file_path)\n",
    "    \n",
    "    # Extract tach and vibration data\n",
    "    tach = mat_data.get('tach', None)\n",
    "    vibration = mat_data.get('vibration', None)\n",
    "\n",
    "    # Check if both tach and vibration are present\n",
    "    if tach is None or vibration is None:\n",
    "        print(f\"Warning: Missing 'tach' or 'vibration' in file {mat_file}. Skipping.\")\n",
    "        continue\n",
    "\n",
    "    # Flatten data arrays\n",
    "    tach = tach.flatten()\n",
    "    vibration = vibration.flatten()\n",
    "\n",
    "    # Save tach data to CSV\n",
    "    tach_df = pd.DataFrame(tach, columns=[\"Tach\"])\n",
    "    tach_csv_path = tach_csv +  f\"{file_date}.csv\"\n",
    "    tach_df.to_csv(tach_csv_path, index=False)\n",
    "    print(f\"Saved tach data to {tach_csv_path}.\")\n",
    "\n",
    "    # Save vibration data to CSV\n",
    "    vibration_df = pd.DataFrame(vibration, columns=[\"Vibration\"])\n",
    "    vibration_csv_path = vibration_csv + f\"{file_date}.csv\"\n",
    "    vibration_df.to_csv(vibration_csv_path, index=False)\n",
    "    print(f\"Saved vibration data to {vibration_csv_path}.\")"
   ]
  },
  {
   "cell_type": "code",
   "execution_count": 4,
   "metadata": {},
   "outputs": [],
   "source": [
    "# compare & interpolate with time, fit every datapoint on scale of 6 sec.\n",
    "# 2446 readings of tach, 585937 of vibrations\n"
   ]
  },
  {
   "cell_type": "code",
   "execution_count": null,
   "metadata": {},
   "outputs": [],
   "source": [
    "# Plot altogather & Screen it for any insights"
   ]
  },
  {
   "cell_type": "code",
   "execution_count": 6,
   "metadata": {},
   "outputs": [],
   "source": [
    "# Clean if it is reqired else go for processing / analysis"
   ]
  },
  {
   "cell_type": "code",
   "execution_count": null,
   "metadata": {},
   "outputs": [],
   "source": [
    "# Train Model "
   ]
  },
  {
   "cell_type": "code",
   "execution_count": null,
   "metadata": {},
   "outputs": [],
   "source": [
    "# Load and Test Model"
   ]
  },
  {
   "cell_type": "code",
   "execution_count": null,
   "metadata": {},
   "outputs": [],
   "source": [
    "# Results"
   ]
  }
 ],
 "metadata": {
  "kernelspec": {
   "display_name": "energy",
   "language": "python",
   "name": "python3"
  },
  "language_info": {
   "codemirror_mode": {
    "name": "ipython",
    "version": 3
   },
   "file_extension": ".py",
   "mimetype": "text/x-python",
   "name": "python",
   "nbconvert_exporter": "python",
   "pygments_lexer": "ipython3",
   "version": "3.12.7"
  }
 },
 "nbformat": 4,
 "nbformat_minor": 2
}
